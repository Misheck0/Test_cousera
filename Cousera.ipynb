{
 "cells": [
  {
   "cell_type": "markdown",
   "id": "33871c52-5e8e-40e4-b757-7b6192200197",
   "metadata": {},
   "source": [
    " notebook"
   ]
  },
  {
   "cell_type": "markdown",
   "id": "ce9d1086-5a6a-49e1-9673-0dc3304539c3",
   "metadata": {},
   "source": [
    "\n"
   ]
  },
  {
   "cell_type": "markdown",
   "id": "d498cbf7-36b3-4b9e-88b6-67c8a13d9779",
   "metadata": {},
   "source": [
    " introduction"
   ]
  },
  {
   "cell_type": "markdown",
   "id": "019214ef-f5fc-4105-bc42-0b0fd1bde2fb",
   "metadata": {},
   "source": [
    "# data science language\n",
    " python\n",
    " sql\n",
    " R"
   ]
  },
  {
   "cell_type": "markdown",
   "id": "0b5b969e-2415-4637-9386-73af2270e02f",
   "metadata": {},
   "source": [
    "list objectives\n",
    "# python\n",
    "# machine learning\n",
    "# data science"
   ]
  },
  {
   "cell_type": "markdown",
   "id": "1cc2bd05-ceab-4aa3-b09c-84891f1c01d8",
   "metadata": {},
   "source": [
    " data science libraries\n",
    "  panda \n",
    "  sckiti leaen"
   ]
  },
  {
   "cell_type": "markdown",
   "id": "c006e36d-d84c-400e-9761-f3e9f0d54c8c",
   "metadata": {},
   "source": [
    "tools for data science\n",
    "# python"
   ]
  },
  {
   "cell_type": "markdown",
   "id": "0a767a4c-4eef-48d3-ba08-71b089d6989c",
   "metadata": {},
   "source": [
    " arithmetic expression"
   ]
  },
  {
   "cell_type": "code",
   "execution_count": null,
   "id": "558c1c94-7b33-4580-a4df-c434fffe0f99",
   "metadata": {},
   "outputs": [],
   "source": [
    "add = 1 + 2\n",
    "mutiple = 5 * 5"
   ]
  },
  {
   "cell_type": "code",
   "execution_count": null,
   "id": "26d53e52-9a9c-4e17-a22a-6335dc82c70b",
   "metadata": {},
   "outputs": [],
   "source": [
    "hour = 1\n",
    "minute = 60\n",
    "con = minute * hours"
   ]
  },
  {
   "cell_type": "markdown",
   "id": "d57b4f5b-8f5a-4715-8fcc-6a9f27655199",
   "metadata": {},
   "source": [
    " list Objectives"
   ]
  },
  {
   "cell_type": "markdown",
   "id": "ca2e3655-feae-42a8-9b05-d032c534e9d2",
   "metadata": {},
   "source": [
    "Author’s name"
   ]
  },
  {
   "cell_type": "code",
   "execution_count": null,
   "id": "69037c38-c4ea-46d9-9159-eab8751678ff",
   "metadata": {},
   "outputs": [],
   "source": []
  }
 ],
 "metadata": {
  "kernelspec": {
   "display_name": "Python 3 (ipykernel)",
   "language": "python",
   "name": "python3"
  },
  "language_info": {
   "codemirror_mode": {
    "name": "ipython",
    "version": 3
   },
   "file_extension": ".py",
   "mimetype": "text/x-python",
   "name": "python",
   "nbconvert_exporter": "python",
   "pygments_lexer": "ipython3",
   "version": "3.10.6"
  }
 },
 "nbformat": 4,
 "nbformat_minor": 5
}
