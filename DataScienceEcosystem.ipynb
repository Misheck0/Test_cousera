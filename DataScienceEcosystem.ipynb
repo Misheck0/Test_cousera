{
 "cells": [
  {
   "cell_type": "markdown",
   "id": "71decd9e-8138-4eae-86d5-5ed4f3c276cf",
   "metadata": {},
   "source": [
    "<h1> Data Science Tools and Ecosystem </h1>"
   ]
  },
  {
   "cell_type": "markdown",
   "id": "793759bf-6132-47f2-9d38-9bc6a99a42c0",
   "metadata": {},
   "source": [
    "<h2> introduction </h2>"
   ]
  },
  {
   "cell_type": "markdown",
   "id": "a6aed2a8-ee5f-4828-b854-f8876ab6f211",
   "metadata": {},
   "source": [
    "In this notebook, Data Science Tools and Ecosystem are summarized"
   ]
  },
  {
   "cell_type": "markdown",
   "id": "967229c9-0a77-42eb-b9a1-19f7cc7ffe1f",
   "metadata": {},
   "source": [
    "<h2> data science languages </h2>"
   ]
  },
  {
   "cell_type": "markdown",
   "id": "d3372f28-9ff1-4bcb-9cb5-6eecb7c50544",
   "metadata": {},
   "source": [
    "Some of the popular languages that Data Scientists use are:\n",
    "\n",
    "<ol>\n",
    "<li>python</li>\n",
    "<li>R</li>\n",
    "<li>R</li>\n",
    "</ol>/ol>/ol>"
   ]
  },
  {
   "cell_type": "markdown",
   "id": "70ba1cfa-316f-455b-bf8d-a9a3ab777e13",
   "metadata": {},
   "source": [
    "<h2>data science libraries</h2>"
   ]
  },
  {
   "cell_type": "markdown",
   "id": "f94b143b-d496-4287-9257-af3519358345",
   "metadata": {},
   "source": [
    "Some of the commonly used libraries used by Data Scientists include:\n"
   ]
  },
  {
   "cell_type": "markdown",
   "id": "042d85df-2540-49aa-90ed-73ae6ec7f5dc",
   "metadata": {},
   "source": [
    " <ol>\n",
    "<li>NumPy</li>\n",
    "<li>Pandas</li>\n",
    "<li>Pytouch</li>\n",
    "<li>"
   ]
  },
  {
   "cell_type": "markdown",
   "id": "06f7f501-9e7f-4746-b61e-c5dd83d92f95",
   "metadata": {},
   "source": [
    "<h2>  table of Data Science tools </h2>"
   ]
  },
  {
   "cell_type": "markdown",
   "id": "a09450fb-2f7b-450e-9a49-7fd92fa5cecd",
   "metadata": {},
   "source": [
    "<tr>\n",
    "   <td> Data Science Tools <th>\n",
    "</t>\n",
    "\n",
    "\n"
   ]
  },
  {
   "cell_type": "markdown",
   "id": "c9b4be12-18cf-4847-a8b0-6d99f7088a62",
   "metadata": {},
   "source": [
    "<table>\n",
    "    <td>Github</td>\n",
    "    <td>Git</td>\n",
    "</table>"
   ]
  },
  {
   "cell_type": "markdown",
   "id": "34cb8da3-03ed-488b-a91a-e896aea0bab7",
   "metadata": {},
   "source": [
    "  ## introducing arithmetic expression examples"
   ]
  },
  {
   "cell_type": "markdown",
   "id": "16480782-630b-459d-bfde-392b0fd0af00",
   "metadata": {},
   "source": [
    "<h3>Below are a few examples of evaluating arithmetic expressions in Python.</h3>"
   ]
  },
  {
   "cell_type": "code",
   "execution_count": 3,
   "id": "e1eab4b8-de8b-4f2e-b9a9-12d0e4dcb9e2",
   "metadata": {},
   "outputs": [],
   "source": [
    "#This a simple arithmetic expression to mutiply then add integers"
   ]
  },
  {
   "cell_type": "markdown",
   "id": "d2cef38b-ea0c-4f3a-a2b7-1879c25dc131",
   "metadata": {},
   "source": [
    "(3*4)+5"
   ]
  },
  {
   "cell_type": "code",
   "execution_count": 5,
   "id": "f929a81e-7c73-4053-8927-9bb674672800",
   "metadata": {},
   "outputs": [],
   "source": [
    "# This will convert 200 minutes to hours by diving by 60"
   ]
  },
  {
   "cell_type": "code",
   "execution_count": 6,
   "id": "07c95aa4-7db8-4cab-8495-3b995191ee1d",
   "metadata": {},
   "outputs": [
    {
     "name": "stdout",
     "output_type": "stream",
     "text": [
      "0 days, 3.3333333333333335 hours, 0 mins. \n"
     ]
    }
   ],
   "source": [
    "days = 0\n",
    "hours = 0\n",
    "mins = 0\n",
    "\n",
    "time = 200\n",
    "#days = time / 1440\n",
    "leftover_minutes = time % 1440\n",
    "hours = leftover_minutes / 60\n",
    "#mins = time - (days*1440) - (hours*60)\n",
    "print(str(days) + \" days, \" + str(hours) + \" hours, \" + str(mins) +  \" mins. \")"
   ]
  },
  {
   "cell_type": "markdown",
   "id": "1f83c4df-639a-4aa4-ba2f-86bef0551831",
   "metadata": {},
   "source": [
    "# Objectives"
   ]
  },
  {
   "cell_type": "markdown",
   "id": "cddc9321-180a-489d-a889-2b6616276a93",
   "metadata": {},
   "source": [
    " <ol>\n",
    "<li>Data science langus</li>\n",
    "<li>Data science tools</li>\n",
    "<li>Data science library</li>\n"
   ]
  },
  {
   "cell_type": "markdown",
   "id": "79391c8a-2f73-4961-a575-9507e80a1b8f",
   "metadata": {},
   "source": [
    "<h2>Author:</h2>\n",
    "Misheck malama"
   ]
  },
  {
   "cell_type": "code",
   "execution_count": null,
   "id": "953b8c40-603d-4139-b1dc-d571896c6e9a",
   "metadata": {},
   "outputs": [],
   "source": []
  }
 ],
 "metadata": {
  "kernelspec": {
   "display_name": "Python 3 (ipykernel)",
   "language": "python",
   "name": "python3"
  },
  "language_info": {
   "codemirror_mode": {
    "name": "ipython",
    "version": 3
   },
   "file_extension": ".py",
   "mimetype": "text/x-python",
   "name": "python",
   "nbconvert_exporter": "python",
   "pygments_lexer": "ipython3",
   "version": "3.10.6"
  }
 },
 "nbformat": 4,
 "nbformat_minor": 5
}
